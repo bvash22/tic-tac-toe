{
 "cells": [
  {
   "cell_type": "code",
   "execution_count": null,
   "metadata": {},
   "outputs": [],
   "source": []
  },
  {
   "cell_type": "code",
   "execution_count": null,
   "metadata": {},
   "outputs": [],
   "source": []
  },
  {
   "cell_type": "code",
   "execution_count": 6,
   "metadata": {},
   "outputs": [],
   "source": [
    "from IPython.display import clear_output\n",
    "\n",
    "def display_lines(board):\n",
    "    clear_output()\n",
    "    print(' | | ')\n",
    "    print(''+board[7]+  '|'  +board[8]+  '|'  +board[9])\n",
    "    print(' | | ')\n",
    "    print('-----')\n",
    "    print(' | | ')\n",
    "    print(''+board[4]+  '|'  +board[5]+  '|'  +board[6]) \n",
    "    print(' | | ')\n",
    "    print('-----')\n",
    "    print(' | | ')\n",
    "    print(''+board[1]+  '|'  +board[2]+  '|'  +board[3])\n",
    "    print(' | | ')\n",
    "    "
   ]
  },
  {
   "cell_type": "code",
   "execution_count": 7,
   "metadata": {},
   "outputs": [
    {
     "name": "stdout",
     "output_type": "stream",
     "text": [
      " | | \n",
      "x|o|x\n",
      " | | \n",
      "-----\n",
      " | | \n",
      "o|x|o\n",
      " | | \n",
      "-----\n",
      " | | \n",
      "x|o|x\n",
      " | | \n"
     ]
    }
   ],
   "source": [
    "test_board = ['#','x','o','x','o','x','o','x','o','x']\n",
    "display_lines(test_board)\n",
    "display_lines(test_board)"
   ]
  },
  {
   "cell_type": "code",
   "execution_count": 8,
   "metadata": {},
   "outputs": [],
   "source": [
    "def inputs():\n",
    "    mark = ''\n",
    "    \n",
    "    while marker != 'x'and mark != 'o':\n",
    "        mark = input('player1: choose x or o:')\n",
    "    if mark == 'x':\n",
    "        return('x','o')\n",
    "    else:\n",
    "        return('o','x')"
   ]
  },
  {
   "cell_type": "code",
   "execution_count": 10,
   "metadata": {},
   "outputs": [],
   "source": [
    "def place_mark(board,mark,position):\n",
    "    board[position] = mark"
   ]
  },
  {
   "cell_type": "code",
   "execution_count": 13,
   "metadata": {},
   "outputs": [],
   "source": [
    "def win_check(board,mark):\n",
    "    return((board[7]==mark and board[8]==mark and board[9]== mark)or\n",
    "    (board[4] ==mark and board[5]==mark and board[6]== mark)or\n",
    "    (board[1]==mark and board[2]==mark and board[3]== mark)or\n",
    "    (board[7]==mark and board[4]==mark and board[1]== mark)or\n",
    "    (board[8]==mark and board[5]==mark and board[2]== mark)or\n",
    "    (board[9]==mark and board[6]==mark and board[3]== mark)or\n",
    "    (board[7]==mark and board[5]==mark and board[3]== mark)or\n",
    "    (board[9]==mark and board[5]==mark and board[1]== mark))\n",
    "\n",
    "    "
   ]
  },
  {
   "cell_type": "code",
   "execution_count": 14,
   "metadata": {},
   "outputs": [],
   "source": [
    "import random\n",
    "def choose_first():\n",
    "    flip = random.randint(0,1)\n",
    "    if flip == 0:\n",
    "        return 'player 1'\n",
    "    else:\n",
    "        return 'player 2'"
   ]
  },
  {
   "cell_type": "code",
   "execution_count": 15,
   "metadata": {},
   "outputs": [],
   "source": [
    "def space_check(board,position):\n",
    "    return board[position]==''\n",
    "    "
   ]
  },
  {
   "cell_type": "code",
   "execution_count": 16,
   "metadata": {},
   "outputs": [],
   "source": [
    "def full_board_check(board):\n",
    "    for i in range(1,10):\n",
    "        if space_check( board,i):\n",
    "            return False\n",
    "        return True "
   ]
  },
  {
   "cell_type": "code",
   "execution_count": 17,
   "metadata": {},
   "outputs": [],
   "source": [
    "def palyer_choice(board):\n",
    "    position = 0\n",
    "    while position not in [1,2,3,4,5,6,7,8,9] or not space_check(board,position):\n",
    "        position= int(input('choose a position: (1-9)'))"
   ]
  },
  {
   "cell_type": "code",
   "execution_count": 18,
   "metadata": {},
   "outputs": [],
   "source": [
    "def replay():\n",
    "    choice = input(\"play again? enter yes or no\")\n",
    "    return choice == 'yes'"
   ]
  },
  {
   "cell_type": "code",
   "execution_count": null,
   "metadata": {},
   "outputs": [],
   "source": [
    "print('welcome to this daami game')\n",
    "while True:\n",
    "    #play\n",
    "    \n",
    "    #set everything up\n",
    "    \n",
    "    the_board=[' ']*10\n",
    "    player1_marker,player2_marker= player_input()\n",
    "    \n",
    "    turn = choosse_first()\n",
    "    print(turn + 'will go first')\n",
    "    \n",
    "    \n",
    "    play_game = input('ready to play? y or n?')\n",
    "    \n",
    "    if play_game == 'y':\n",
    "        game_on = True\n",
    "    else:\n",
    "        game_on = False\n",
    "        \n",
    "         \n",
    "        \n",
    "        \n",
    "    \n",
    "    "
   ]
  }
 ],
 "metadata": {
  "kernelspec": {
   "display_name": "Python 3",
   "language": "python",
   "name": "python3"
  },
  "language_info": {
   "codemirror_mode": {
    "name": "ipython",
    "version": 3
   },
   "file_extension": ".py",
   "mimetype": "text/x-python",
   "name": "python",
   "nbconvert_exporter": "python",
   "pygments_lexer": "ipython3",
   "version": "3.7.1"
  }
 },
 "nbformat": 4,
 "nbformat_minor": 2
}
