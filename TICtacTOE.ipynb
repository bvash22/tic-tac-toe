{
 "cells": [
  {
   "cell_type": "code",
   "execution_count": null,
   "metadata": {},
   "outputs": [],
   "source": []
  },
  {
   "cell_type": "code",
   "execution_count": null,
   "metadata": {},
   "outputs": [],
   "source": []
  },
  {
   "cell_type": "code",
   "execution_count": 12,
   "metadata": {},
   "outputs": [],
   "source": [
    "from IPython.display import clear_output\n",
    "\n",
    "def display_lines(board):\n",
    "    clear_output()\n",
    "    print(' | | ')\n",
    "    print(''+board[7]+  '|'  +board[8]+  '|'  +board[9])\n",
    "    print(' | | ')\n",
    "    print('-----')\n",
    "    print(' | | ')\n",
    "    print(''+board[4]+  '|'  +board[5]+  '|'  +board[6]) \n",
    "    print(' | | ')\n",
    "    print('-----')\n",
    "    print(' | | ')\n",
    "    print(''+board[1]+  '|'  +board[2]+  '|'  +board[3])\n",
    "    print(' | | ')\n",
    "    "
   ]
  },
  {
   "cell_type": "code",
   "execution_count": 13,
   "metadata": {},
   "outputs": [
    {
     "name": "stdout",
     "output_type": "stream",
     "text": [
      " | | \n",
      "x|o|x\n",
      " | | \n",
      "-----\n",
      " | | \n",
      "o|x|o\n",
      " | | \n",
      "-----\n",
      " | | \n",
      "x|o|x\n",
      " | | \n"
     ]
    }
   ],
   "source": [
    "test_board = ['#','x','o','x','o','x','o','x','o','x']\n",
    "display_lines(test_board)\n",
    "display_lines(test_board)"
   ]
  },
  {
   "cell_type": "code",
   "execution_count": null,
   "metadata": {},
   "outputs": [],
   "source": []
  },
  {
   "cell_type": "code",
   "execution_count": null,
   "metadata": {},
   "outputs": [],
   "source": []
  }
 ],
 "metadata": {
  "kernelspec": {
   "display_name": "Python 3",
   "language": "python",
   "name": "python3"
  },
  "language_info": {
   "codemirror_mode": {
    "name": "ipython",
    "version": 3
   },
   "file_extension": ".py",
   "mimetype": "text/x-python",
   "name": "python",
   "nbconvert_exporter": "python",
   "pygments_lexer": "ipython3",
   "version": "3.7.1"
  }
 },
 "nbformat": 4,
 "nbformat_minor": 2
}
